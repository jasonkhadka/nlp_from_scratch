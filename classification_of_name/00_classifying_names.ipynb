{
 "cells": [
  {
   "cell_type": "code",
   "execution_count": 7,
   "metadata": {
    "ExecuteTime": {
     "end_time": "2021-02-07T21:56:13.582774Z",
     "start_time": "2021-02-07T21:56:13.579005Z"
    }
   },
   "outputs": [],
   "source": [
    "import os\n",
    "from io import open\n",
    "import glob\n",
    "\n",
    "import unicodedata\n",
    "import string"
   ]
  },
  {
   "cell_type": "markdown",
   "metadata": {},
   "source": [
    "# 1. Getting data ready"
   ]
  },
  {
   "cell_type": "code",
   "execution_count": 4,
   "metadata": {
    "ExecuteTime": {
     "end_time": "2021-02-07T21:54:36.004320Z",
     "start_time": "2021-02-07T21:54:36.000211Z"
    }
   },
   "outputs": [
    {
     "data": {
      "text/plain": [
       "['names', 'eng-fra.txt']"
      ]
     },
     "execution_count": 4,
     "metadata": {},
     "output_type": "execute_result"
    }
   ],
   "source": [
    "os.listdir(\"./data/\")"
   ]
  },
  {
   "cell_type": "code",
   "execution_count": 5,
   "metadata": {
    "ExecuteTime": {
     "end_time": "2021-02-07T21:55:00.090304Z",
     "start_time": "2021-02-07T21:55:00.087253Z"
    }
   },
   "outputs": [],
   "source": [
    "def find_files(path):\n",
    "    return glob.glob(path)"
   ]
  },
  {
   "cell_type": "code",
   "execution_count": 6,
   "metadata": {
    "ExecuteTime": {
     "end_time": "2021-02-07T21:55:21.772240Z",
     "start_time": "2021-02-07T21:55:21.768977Z"
    }
   },
   "outputs": [
    {
     "name": "stdout",
     "output_type": "stream",
     "text": [
      "['./data/names/Czech.txt', './data/names/German.txt', './data/names/Arabic.txt', './data/names/Japanese.txt', './data/names/Chinese.txt', './data/names/Vietnamese.txt', './data/names/Russian.txt', './data/names/French.txt', './data/names/Irish.txt', './data/names/English.txt', './data/names/Spanish.txt', './data/names/Greek.txt', './data/names/Italian.txt', './data/names/Portuguese.txt', './data/names/Scottish.txt', './data/names/Dutch.txt', './data/names/Korean.txt', './data/names/Polish.txt']\n"
     ]
    }
   ],
   "source": [
    "print(find_files(\"./data/names/*.txt\"))"
   ]
  },
  {
   "cell_type": "code",
   "execution_count": null,
   "metadata": {},
   "outputs": [],
   "source": []
  },
  {
   "cell_type": "markdown",
   "metadata": {},
   "source": [
    "# 2. Removing accents from texts"
   ]
  },
  {
   "cell_type": "code",
   "execution_count": 10,
   "metadata": {
    "ExecuteTime": {
     "end_time": "2021-02-07T21:57:39.784884Z",
     "start_time": "2021-02-07T21:57:39.779627Z"
    }
   },
   "outputs": [],
   "source": [
    "all_letters = string.ascii_letters + \" .,;'\"\n",
    "n_letters = len(all_letters)"
   ]
  },
  {
   "cell_type": "code",
   "execution_count": 13,
   "metadata": {
    "ExecuteTime": {
     "end_time": "2021-02-07T21:57:58.465681Z",
     "start_time": "2021-02-07T21:57:58.461816Z"
    }
   },
   "outputs": [
    {
     "data": {
      "text/plain": [
       "\"abcdefghijklmnopqrstuvwxyzABCDEFGHIJKLMNOPQRSTUVWXYZ .,;'\""
      ]
     },
     "execution_count": 13,
     "metadata": {},
     "output_type": "execute_result"
    }
   ],
   "source": [
    "all_letters"
   ]
  },
  {
   "cell_type": "code",
   "execution_count": 12,
   "metadata": {
    "ExecuteTime": {
     "end_time": "2021-02-07T21:57:53.129992Z",
     "start_time": "2021-02-07T21:57:53.125922Z"
    }
   },
   "outputs": [
    {
     "data": {
      "text/plain": [
       "57"
      ]
     },
     "execution_count": 12,
     "metadata": {},
     "output_type": "execute_result"
    }
   ],
   "source": [
    "n_letters"
   ]
  },
  {
   "cell_type": "code",
   "execution_count": 8,
   "metadata": {
    "ExecuteTime": {
     "end_time": "2021-02-07T21:56:53.807827Z",
     "start_time": "2021-02-07T21:56:53.803649Z"
    }
   },
   "outputs": [],
   "source": [
    "# https://stackoverflow.com/a/518232/2809427\n",
    "def unicodeToAscii(s):\n",
    "    return ''.join(\n",
    "        c for c in unicodedata.normalize('NFD', s)\n",
    "        if unicodedata.category(c) != 'Mn'\n",
    "        and c in all_letters\n",
    "    )"
   ]
  },
  {
   "cell_type": "code",
   "execution_count": 14,
   "metadata": {
    "ExecuteTime": {
     "end_time": "2021-02-07T21:58:01.903620Z",
     "start_time": "2021-02-07T21:58:01.900389Z"
    }
   },
   "outputs": [
    {
     "name": "stdout",
     "output_type": "stream",
     "text": [
      "Slusarski\n"
     ]
    }
   ],
   "source": [
    "print(unicodeToAscii('Ślusàrski'))"
   ]
  },
  {
   "cell_type": "markdown",
   "metadata": {},
   "source": [
    "# Category_lines dictionary and a list of names per language"
   ]
  },
  {
   "cell_type": "code",
   "execution_count": 15,
   "metadata": {
    "ExecuteTime": {
     "end_time": "2021-02-07T21:59:49.474732Z",
     "start_time": "2021-02-07T21:59:49.470642Z"
    }
   },
   "outputs": [],
   "source": [
    "def read_lines(filename):\n",
    "    lines = open(filename, encoding=\"utf-8\").read().strip().split('\\n')\n",
    "    return [unicodeToAscii(line) for line in lines]"
   ]
  },
  {
   "cell_type": "code",
   "execution_count": 24,
   "metadata": {
    "ExecuteTime": {
     "end_time": "2021-02-07T22:04:16.956433Z",
     "start_time": "2021-02-07T22:04:16.950313Z"
    }
   },
   "outputs": [
    {
     "name": "stdout",
     "output_type": "stream",
     "text": [
      "category :  Czech\n",
      "['Abl', 'Adsit', 'Ajdrna', 'Alt', 'Antonowitsch', 'Antonowitz', 'Bacon', 'Ballalatak', 'Ballaltick', 'Bartonova']\n"
     ]
    }
   ],
   "source": [
    "# example lines:\n",
    "filename = find_files(\"./data/names/*.txt\")[0]\n",
    "\n",
    "lines = read_lines(filename)\n",
    "print(\"category : \", os.path.splitext(os.path.basename(filename))[0])\n",
    "print(lines[:10])"
   ]
  },
  {
   "cell_type": "code",
   "execution_count": 28,
   "metadata": {
    "ExecuteTime": {
     "end_time": "2021-02-07T22:12:05.661439Z",
     "start_time": "2021-02-07T22:12:05.592847Z"
    }
   },
   "outputs": [],
   "source": [
    "# categories for names\n",
    "all_categories = [os.path.splitext(os.path.basename(f))[0] for f in find_files(\"./data/names/*.txt\")]\n",
    "\n",
    "# list of names for the category\n",
    "category_names = {}\n",
    "\n",
    "\n",
    "for filename in find_files(\"./data/names/*.txt\"):\n",
    "    category = os.path.splitext(os.path.basename(filename))[0]\n",
    "    \n",
    "    lines = read_lines(filename)\n",
    "    \n",
    "    category_names[category] = lines\n",
    "\n",
    "n_categories = len(all_categories)"
   ]
  },
  {
   "cell_type": "code",
   "execution_count": 29,
   "metadata": {
    "ExecuteTime": {
     "end_time": "2021-02-07T22:12:11.499898Z",
     "start_time": "2021-02-07T22:12:11.497414Z"
    }
   },
   "outputs": [
    {
     "name": "stdout",
     "output_type": "stream",
     "text": [
      "['Czech', 'German', 'Arabic', 'Japanese', 'Chinese', 'Vietnamese', 'Russian', 'French', 'Irish', 'English', 'Spanish', 'Greek', 'Italian', 'Portuguese', 'Scottish', 'Dutch', 'Korean', 'Polish']\n"
     ]
    }
   ],
   "source": [
    "print(all_categories)"
   ]
  },
  {
   "cell_type": "code",
   "execution_count": 32,
   "metadata": {
    "ExecuteTime": {
     "end_time": "2021-02-07T22:12:38.030571Z",
     "start_time": "2021-02-07T22:12:38.027367Z"
    }
   },
   "outputs": [
    {
     "name": "stdout",
     "output_type": "stream",
     "text": [
      "['Abbing', 'Abel', 'Abeln', 'Abt', 'Achilles', 'Achterberg', 'Acker', 'Ackermann', 'Adam', 'Adenauer']\n"
     ]
    }
   ],
   "source": [
    "print(category_names[\"German\"][:10])"
   ]
  },
  {
   "cell_type": "markdown",
   "metadata": {},
   "source": [
    "# 3. Names to tensors"
   ]
  },
  {
   "cell_type": "code",
   "execution_count": 93,
   "metadata": {
    "ExecuteTime": {
     "end_time": "2021-02-07T23:30:20.193487Z",
     "start_time": "2021-02-07T23:30:19.770251Z"
    }
   },
   "outputs": [],
   "source": [
    "import torch\n",
    "import torch.nn as nn\n",
    "\n",
    "import random\n",
    "import matplotlib.pyplot as plt\n",
    "\n",
    "\n",
    "from tqdm import tqdm"
   ]
  },
  {
   "cell_type": "code",
   "execution_count": 37,
   "metadata": {
    "ExecuteTime": {
     "end_time": "2021-02-07T22:16:07.333064Z",
     "start_time": "2021-02-07T22:16:07.328897Z"
    }
   },
   "outputs": [
    {
     "data": {
      "text/plain": [
       "57"
      ]
     },
     "execution_count": 37,
     "metadata": {},
     "output_type": "execute_result"
    }
   ],
   "source": [
    "n_letters"
   ]
  },
  {
   "cell_type": "code",
   "execution_count": 40,
   "metadata": {
    "ExecuteTime": {
     "end_time": "2021-02-07T22:18:03.362061Z",
     "start_time": "2021-02-07T22:18:03.354847Z"
    }
   },
   "outputs": [
    {
     "name": "stdout",
     "output_type": "stream",
     "text": [
      "tensor([[[0., 0., 0., 0., 0., 0., 0., 0., 0., 0., 0., 0., 0., 0., 0., 0., 0.,\n",
      "          0., 0., 0., 0., 0., 0., 0., 0., 0., 0., 0., 0., 0., 0., 0., 0., 0.,\n",
      "          0., 1., 0., 0., 0., 0., 0., 0., 0., 0., 0., 0., 0., 0., 0., 0., 0.,\n",
      "          0., 0., 0., 0., 0., 0.]],\n",
      "\n",
      "        [[1., 0., 0., 0., 0., 0., 0., 0., 0., 0., 0., 0., 0., 0., 0., 0., 0.,\n",
      "          0., 0., 0., 0., 0., 0., 0., 0., 0., 0., 0., 0., 0., 0., 0., 0., 0.,\n",
      "          0., 0., 0., 0., 0., 0., 0., 0., 0., 0., 0., 0., 0., 0., 0., 0., 0.,\n",
      "          0., 0., 0., 0., 0., 0.]],\n",
      "\n",
      "        [[0., 0., 0., 0., 0., 0., 0., 0., 0., 0., 0., 0., 0., 0., 0., 0., 0.,\n",
      "          0., 1., 0., 0., 0., 0., 0., 0., 0., 0., 0., 0., 0., 0., 0., 0., 0.,\n",
      "          0., 0., 0., 0., 0., 0., 0., 0., 0., 0., 0., 0., 0., 0., 0., 0., 0.,\n",
      "          0., 0., 0., 0., 0., 0.]],\n",
      "\n",
      "        [[0., 0., 0., 0., 0., 0., 0., 0., 0., 0., 0., 0., 0., 0., 1., 0., 0.,\n",
      "          0., 0., 0., 0., 0., 0., 0., 0., 0., 0., 0., 0., 0., 0., 0., 0., 0.,\n",
      "          0., 0., 0., 0., 0., 0., 0., 0., 0., 0., 0., 0., 0., 0., 0., 0., 0.,\n",
      "          0., 0., 0., 0., 0., 0.]],\n",
      "\n",
      "        [[0., 0., 0., 0., 0., 0., 0., 0., 0., 0., 0., 0., 0., 1., 0., 0., 0.,\n",
      "          0., 0., 0., 0., 0., 0., 0., 0., 0., 0., 0., 0., 0., 0., 0., 0., 0.,\n",
      "          0., 0., 0., 0., 0., 0., 0., 0., 0., 0., 0., 0., 0., 0., 0., 0., 0.,\n",
      "          0., 0., 0., 0., 0., 0.]]])\n",
      "torch.Size([5, 1, 57])\n"
     ]
    }
   ],
   "source": [
    "# letter2index : a = 0, b = 1 ...\n",
    "def letter2index(letter):\n",
    "    return all_letters.find(letter)\n",
    "\n",
    "\n",
    "# Turn a name into a tensor of <name_length x 1 x n_letters>\n",
    "# this is array of one-hot encoded vectors\n",
    "def name2tensor(name):\n",
    "    tensor = torch.zeros(len(name), 1, n_letters)\n",
    "    \n",
    "    for idx, letter in enumerate(name):\n",
    "        tensor[idx][0][letter2index(letter)] = 1\n",
    "    return tensor\n",
    "\n",
    "print(name2tensor(\"Jason\"))\n",
    "print(name2tensor(\"Jason\").size())"
   ]
  },
  {
   "cell_type": "markdown",
   "metadata": {},
   "source": [
    "# 4. Creating the network"
   ]
  },
  {
   "cell_type": "markdown",
   "metadata": {},
   "source": [
    "## 4.1 Simple RNN"
   ]
  },
  {
   "cell_type": "code",
   "execution_count": 76,
   "metadata": {
    "ExecuteTime": {
     "end_time": "2021-02-07T23:11:17.298176Z",
     "start_time": "2021-02-07T23:11:17.292346Z"
    }
   },
   "outputs": [],
   "source": [
    "class RNN(nn.Module):\n",
    "    def __init__(self, data_size, hidden_size, output_size):\n",
    "        super(RNN, self).__init__()\n",
    "        \n",
    "        self.hidden_size = hidden_size\n",
    "        input_size = data_size + hidden_size\n",
    "        \n",
    "        self.fc1 = nn.Linear(input_size, hidden_size)\n",
    "        self.fc2 = nn.Linear(hidden_size, output_size)\n",
    "        self.softmax = nn.LogSoftmax(dim=1)\n",
    "        \n",
    "    def forward(self, data, last_hidden):\n",
    "        input_tensor = torch.cat((data, last_hidden), 1)\n",
    "        hidden = self.fc1(input_tensor)\n",
    "        output = self.fc2(hidden)\n",
    "        output = self.softmax(output)\n",
    "        return output, hidden\n",
    "    \n",
    "    def init_hidden(self):\n",
    "        return torch.zeros(1, self.hidden_size)\n",
    "\n",
    "# getting category from output\n",
    "def category_from_output(output):\n",
    "    top_n,top_i = output.topk(1)\n",
    "    category_i = top_i[0].item()\n",
    "    return all_categories[category_i], category_i"
   ]
  },
  {
   "cell_type": "markdown",
   "metadata": {},
   "source": [
    "### 4.1.1 Initialise the networks"
   ]
  },
  {
   "cell_type": "code",
   "execution_count": 77,
   "metadata": {
    "ExecuteTime": {
     "end_time": "2021-02-07T23:11:20.135791Z",
     "start_time": "2021-02-07T23:11:20.132482Z"
    }
   },
   "outputs": [],
   "source": [
    "data_size = n_letters\n",
    "hidden_size = 128\n",
    "output_size = n_categories\n",
    "\n",
    "rnn = RNN(data_size, hidden_size, output_size)"
   ]
  },
  {
   "cell_type": "markdown",
   "metadata": {
    "ExecuteTime": {
     "end_time": "2021-02-07T22:43:48.696574Z",
     "start_time": "2021-02-07T22:43:48.692795Z"
    }
   },
   "source": [
    "### 4.1.2 Training single step of the network\n",
    "\n",
    "To run a step of this network we need to pass an input (in our case, the Tensor for the current letter) and a previous hidden state (which we initialize as zeros at first). We’ll get back the output (probability of each language) and a next hidden state (which we keep for the next step)."
   ]
  },
  {
   "cell_type": "code",
   "execution_count": 78,
   "metadata": {
    "ExecuteTime": {
     "end_time": "2021-02-07T23:11:20.829817Z",
     "start_time": "2021-02-07T23:11:20.826054Z"
    }
   },
   "outputs": [],
   "source": [
    "# 1 step of the network\n",
    "input_tensor = name2tensor(\"A\")\n",
    "hidden_tensor = torch.zeros(1, hidden_size)\n",
    "\n",
    "output, next_hidden = rnn(input_tensor[0], hidden_tensor)"
   ]
  },
  {
   "cell_type": "code",
   "execution_count": 79,
   "metadata": {
    "ExecuteTime": {
     "end_time": "2021-02-07T23:11:22.499704Z",
     "start_time": "2021-02-07T23:11:22.494791Z"
    }
   },
   "outputs": [
    {
     "data": {
      "text/plain": [
       "tensor([[-2.9947, -2.8268, -2.8289, -2.8847, -2.8716, -2.8546, -2.8696, -2.8195,\n",
       "         -3.0354, -2.8389, -2.9797, -2.8690, -2.8825, -2.8826, -2.8816, -2.9452,\n",
       "         -2.9908, -2.8089]], grad_fn=<LogSoftmaxBackward>)"
      ]
     },
     "execution_count": 79,
     "metadata": {},
     "output_type": "execute_result"
    }
   ],
   "source": [
    "output"
   ]
  },
  {
   "cell_type": "code",
   "execution_count": 80,
   "metadata": {
    "ExecuteTime": {
     "end_time": "2021-02-07T23:11:22.706926Z",
     "start_time": "2021-02-07T23:11:22.703161Z"
    }
   },
   "outputs": [
    {
     "data": {
      "text/plain": [
       "('Polish', 17)"
      ]
     },
     "execution_count": 80,
     "metadata": {},
     "output_type": "execute_result"
    }
   ],
   "source": [
    "category_from_output(output)"
   ]
  },
  {
   "cell_type": "markdown",
   "metadata": {},
   "source": [
    "### 4.1.3 Function to get the training examples"
   ]
  },
  {
   "cell_type": "code",
   "execution_count": 81,
   "metadata": {
    "ExecuteTime": {
     "end_time": "2021-02-07T23:11:23.407063Z",
     "start_time": "2021-02-07T23:11:23.403250Z"
    }
   },
   "outputs": [
    {
     "data": {
      "text/plain": [
       "7"
      ]
     },
     "execution_count": 81,
     "metadata": {},
     "output_type": "execute_result"
    }
   ],
   "source": [
    "all_categories.index(\"French\")"
   ]
  },
  {
   "cell_type": "code",
   "execution_count": 82,
   "metadata": {
    "ExecuteTime": {
     "end_time": "2021-02-07T23:11:23.788343Z",
     "start_time": "2021-02-07T23:11:23.783973Z"
    }
   },
   "outputs": [],
   "source": [
    "\n",
    "\n",
    "def random_choice(l):\n",
    "    return l[random.randint(0,len(l)-1)]\n",
    "\n",
    "def random_training_example():\n",
    "    category = random_choice(all_categories)\n",
    "    name = random_choice(category_names[category])\n",
    "    \n",
    "    category_tensor = torch.tensor([all_categories.index(category)], dtype=torch.long)\n",
    "    name_tensor = name2tensor(name)\n",
    "    \n",
    "    return category, name, category_tensor, name_tensor"
   ]
  },
  {
   "cell_type": "code",
   "execution_count": 83,
   "metadata": {
    "ExecuteTime": {
     "end_time": "2021-02-07T23:11:25.392564Z",
     "start_time": "2021-02-07T23:11:25.386339Z"
    }
   },
   "outputs": [
    {
     "name": "stdout",
     "output_type": "stream",
     "text": [
      "category =  Scottish | name =  Alexander\n",
      "category =  Korean | name =  So\n",
      "category =  Korean | name =  Baik\n",
      "category =  Scottish | name =  Jamieson\n",
      "category =  French | name =  Cavey\n",
      "category =  Spanish | name =  Mendez\n",
      "category =  Scottish | name =  Mackenzie\n",
      "category =  Russian | name =  Abelmazoff\n",
      "category =  Irish | name =  O'Keefe\n",
      "category =  Korean | name =  Chi\n"
     ]
    }
   ],
   "source": [
    "for i in range(10):\n",
    "    category, name, category_tensor, name_tensor = random_training_example()\n",
    "    print(\"category = \", category, \"| name = \", name)"
   ]
  },
  {
   "cell_type": "markdown",
   "metadata": {},
   "source": [
    "### 4.1.4 Training the network"
   ]
  },
  {
   "cell_type": "code",
   "execution_count": 84,
   "metadata": {
    "ExecuteTime": {
     "end_time": "2021-02-07T23:20:38.024026Z",
     "start_time": "2021-02-07T23:20:38.020378Z"
    }
   },
   "outputs": [],
   "source": [
    "def train(category_tensor, name_tensor, loss_func, learning_rate):\n",
    "    hidden_tensor = rnn.init_hidden()\n",
    "    \n",
    "    rnn.zero_grad()\n",
    "    \n",
    "    for i in range(name_tensor.size()[0]):\n",
    "        output, hidden_tensor = rnn(name_tensor[i], hidden_tensor)\n",
    "    \n",
    "    loss = loss_func(output, category_tensor)\n",
    "    loss.backward()\n",
    "    \n",
    "    # Gradient descent\n",
    "    # Add parameters' gradients to their values, multiplied by learning rate\n",
    "    for p in rnn.parameters():\n",
    "        p.data.add_(p.grad.data, alpha=-learning_rate)\n",
    "    \n",
    "    return output, loss.item()"
   ]
  },
  {
   "cell_type": "code",
   "execution_count": 91,
   "metadata": {
    "ExecuteTime": {
     "end_time": "2021-02-07T23:27:25.387505Z",
     "start_time": "2021-02-07T23:27:25.384527Z"
    }
   },
   "outputs": [],
   "source": [
    "learning_rate = 0.005 \n",
    "current_loss = 0\n",
    "n_iters = 100000\n",
    "plot_freq = 1000\n",
    "\n",
    "loss_func = nn.NLLLoss()"
   ]
  },
  {
   "cell_type": "code",
   "execution_count": 92,
   "metadata": {
    "ExecuteTime": {
     "end_time": "2021-02-07T23:29:41.123402Z",
     "start_time": "2021-02-07T23:27:26.416958Z"
    }
   },
   "outputs": [
    {
     "name": "stderr",
     "output_type": "stream",
     "text": [
      "100%|██████████| 100000/100000 [02:14<00:00, 742.38it/s]\n"
     ]
    }
   ],
   "source": [
    "all_losses = []\n",
    "iteration_list = []\n",
    "\n",
    "# running trianing\n",
    "for idx in tqdm(range(1, n_iters+1)):\n",
    "    category, name, category_tensor, name_tensor = random_training_example()\n",
    "    output, loss = train(category_tensor, name_tensor, loss_func, learning_rate)\n",
    "    \n",
    "    current_loss += loss\n",
    "    \n",
    "    if idx%plot_freq == 0:\n",
    "            iteration_list.append(idx)\n",
    "            all_losses.append(current_loss/plot_freq)\n",
    "            iteration_list.append(idx)\n",
    "            current_loss = 0"
   ]
  },
  {
   "cell_type": "code",
   "execution_count": 94,
   "metadata": {
    "ExecuteTime": {
     "end_time": "2021-02-07T23:30:33.830352Z",
     "start_time": "2021-02-07T23:30:33.655864Z"
    }
   },
   "outputs": [
    {
     "data": {
      "text/plain": [
       "[<matplotlib.lines.Line2D at 0x7f91e58b1b10>]"
      ]
     },
     "execution_count": 94,
     "metadata": {},
     "output_type": "execute_result"
    },
    {
     "data": {
      "image/png": "[encoded data removed]",
      "text/plain": [
       "<Figure size 432x288 with 1 Axes>"
      ]
     },
     "metadata": {
      "needs_background": "light"
     },
     "output_type": "display_data"
    }
   ],
   "source": [
    "plt.plot(all_losses)"
   ]
  },
  {
   "cell_type": "markdown",
   "metadata": {},
   "source": [
    "### 4.1.5 Lets check for some examples of the trained network"
   ]
  },
  {
   "cell_type": "code",
   "execution_count": 99,
   "metadata": {
    "ExecuteTime": {
     "end_time": "2021-02-07T23:36:46.880939Z",
     "start_time": "2021-02-07T23:36:46.875759Z"
    }
   },
   "outputs": [],
   "source": [
    "def evaluate(name_tensor):\n",
    "    hidden_tensor = rnn.init_hidden()\n",
    "    \n",
    "    for i in range(name_tensor.size()[0]):\n",
    "        output, hidden_tensor = rnn(name_tensor[i], hidden_tensor)\n",
    "    return output\n",
    "\n",
    "\n",
    "def predict(input_name, n_predictions=3):\n",
    "    print(\"name > \", input_name)\n",
    "    with torch.no_grad():\n",
    "        output = evaluate(name2tensor(input_name))\n",
    "        \n",
    "        # get top N categories\n",
    "        top_values, top_idx = output.topk(n_predictions, 1, True)\n",
    "        \n",
    "        for i in range(n_predictions):\n",
    "            value = top_values[0][i].item()\n",
    "            category_index = top_idx[0][i].item()\n",
    "            \n",
    "            print(\"%.2f : %s\"%(value, all_categories[category_index]))\n",
    "            "
   ]
  },
  {
   "cell_type": "code",
   "execution_count": 102,
   "metadata": {
    "ExecuteTime": {
     "end_time": "2021-02-07T23:37:18.110537Z",
     "start_time": "2021-02-07T23:37:18.105184Z"
    }
   },
   "outputs": [
    {
     "name": "stdout",
     "output_type": "stream",
     "text": [
      "name >  Jason\n",
      "-0.31 : Scottish\n",
      "-2.45 : Polish\n",
      "-2.67 : Korean\n"
     ]
    }
   ],
   "source": [
    "predict(\"Jason\")"
   ]
  },
  {
   "cell_type": "code",
   "execution_count": 106,
   "metadata": {
    "ExecuteTime": {
     "end_time": "2021-02-07T23:38:02.891286Z",
     "start_time": "2021-02-07T23:38:02.886564Z"
    }
   },
   "outputs": [
    {
     "name": "stdout",
     "output_type": "stream",
     "text": [
      "name >  Ashna\n",
      "-1.40 : Japanese\n",
      "-1.75 : Italian\n",
      "-1.84 : Arabic\n"
     ]
    }
   ],
   "source": [
    "predict(\"Ashna\")"
   ]
  },
  {
   "cell_type": "code",
   "execution_count": 107,
   "metadata": {
    "ExecuteTime": {
     "end_time": "2021-02-07T23:38:07.714921Z",
     "start_time": "2021-02-07T23:38:07.709707Z"
    }
   },
   "outputs": [
    {
     "name": "stdout",
     "output_type": "stream",
     "text": [
      "name >  Henry\n",
      "-1.28 : English\n",
      "-1.57 : Irish\n",
      "-1.96 : Scottish\n"
     ]
    }
   ],
   "source": [
    "predict(\"Henry\")"
   ]
  },
  {
   "cell_type": "code",
   "execution_count": 105,
   "metadata": {
    "ExecuteTime": {
     "end_time": "2021-02-07T23:37:37.204991Z",
     "start_time": "2021-02-07T23:37:37.199878Z"
    }
   },
   "outputs": [
    {
     "name": "stdout",
     "output_type": "stream",
     "text": [
      "name >  Dovesky\n",
      "-0.09 : Russian\n",
      "-2.95 : Czech\n",
      "-4.21 : Irish\n"
     ]
    }
   ],
   "source": [
    "predict(\"Dovesky\")"
   ]
  },
  {
   "cell_type": "code",
   "execution_count": 109,
   "metadata": {
    "ExecuteTime": {
     "end_time": "2021-02-07T23:38:33.064605Z",
     "start_time": "2021-02-07T23:38:33.059720Z"
    }
   },
   "outputs": [
    {
     "name": "stdout",
     "output_type": "stream",
     "text": [
      "name >  Macron\n",
      "-1.05 : Scottish\n",
      "-1.32 : French\n",
      "-2.39 : Spanish\n"
     ]
    }
   ],
   "source": [
    "predict(\"Macron\")"
   ]
  },
  {
   "cell_type": "code",
   "execution_count": 118,
   "metadata": {
    "ExecuteTime": {
     "end_time": "2021-02-10T14:00:06.150704Z",
     "start_time": "2021-02-10T14:00:06.018908Z"
    }
   },
   "outputs": [
    {
     "name": "stdout",
     "output_type": "stream",
     "text": [
      "name >  Uwe\n",
      "-1.46 : English\n",
      "-1.78 : Scottish\n",
      "-2.01 : German\n"
     ]
    }
   ],
   "source": [
    "predict(\"Uwe\")"
   ]
  },
  {
   "cell_type": "code",
   "execution_count": 120,
   "metadata": {
    "ExecuteTime": {
     "end_time": "2021-02-10T14:02:42.276906Z",
     "start_time": "2021-02-10T14:02:42.267774Z"
    },
    "scrolled": true
   },
   "outputs": [
    {
     "name": "stdout",
     "output_type": "stream",
     "text": [
      "name >  Galina\n",
      "-0.70 : Italian\n",
      "-1.55 : Spanish\n",
      "-2.44 : Irish\n"
     ]
    }
   ],
   "source": [
    "predict(\"Galina\")"
   ]
  },
  {
   "cell_type": "code",
   "execution_count": 122,
   "metadata": {
    "ExecuteTime": {
     "end_time": "2021-02-10T14:03:04.096405Z",
     "start_time": "2021-02-10T14:03:04.091340Z"
    }
   },
   "outputs": [
    {
     "name": "stdout",
     "output_type": "stream",
     "text": [
      "name >  Ludimila\n",
      "-0.43 : Italian\n",
      "-2.46 : Russian\n",
      "-2.59 : Spanish\n"
     ]
    }
   ],
   "source": [
    "predict(\"Ludimila\")"
   ]
  },
  {
   "cell_type": "code",
   "execution_count": null,
   "metadata": {},
   "outputs": [],
   "source": []
  }
 ],
 "metadata": {
  "kernelspec": {
   "display_name": "segmentation",
   "language": "python",
   "name": "segmentation"
  },
  "language_info": {
   "codemirror_mode": {
    "name": "ipython",
    "version": 3
   },
   "file_extension": ".py",
   "mimetype": "text/x-python",
   "name": "python",
   "nbconvert_exporter": "python",
   "pygments_lexer": "ipython3",
   "version": "3.7.9"
  }
 },
 "nbformat": 4,
 "nbformat_minor": 4
}
